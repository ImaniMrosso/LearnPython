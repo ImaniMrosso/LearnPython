{
 "cells": [
  {
   "cell_type": "code",
   "execution_count": 2,
   "metadata": {},
   "outputs": [
    {
     "name": "stdout",
     "output_type": "stream",
     "text": [
      "     /|\n",
      "    / |\n",
      "   /  |\n",
      "  /   |\n",
      " /____|\n"
     ]
    }
   ],
   "source": [
    "print(\"     /|\")\n",
    "print(\"    / |\")\n",
    "print(\"   /  |\")\n",
    "print(\"  /   |\")\n",
    "print(\" /____|\")"
   ]
  },
  {
   "cell_type": "code",
   "execution_count": 3,
   "metadata": {},
   "outputs": [
    {
     "name": "stdout",
     "output_type": "stream",
     "text": [
      "6\n"
     ]
    }
   ],
   "source": [
    "print(2 * 3)"
   ]
  },
  {
   "cell_type": "code",
   "execution_count": 4,
   "metadata": {},
   "outputs": [
    {
     "name": "stdout",
     "output_type": "stream",
     "text": [
      " /____|\n",
      "     /|\n",
      "    / |\n",
      "   /  |\n",
      "  /   |\n"
     ]
    }
   ],
   "source": [
    "print(\" /____|\")\n",
    "print(\"     /|\")\n",
    "print(\"    / |\")\n",
    "print(\"   /  |\")\n",
    "print(\"  /   |\")\n"
   ]
  },
  {
   "cell_type": "code",
   "execution_count": 5,
   "metadata": {},
   "outputs": [
    {
     "name": "stdout",
     "output_type": "stream",
     "text": [
      "my name is Cybergates\n",
      "my age is 20\n"
     ]
    }
   ],
   "source": [
    "name = \"Cybergates\"\n",
    "age = \"20\"\n",
    "\n",
    "print(\"my name is \" + name)\n",
    "print(\"my age is \" + age)"
   ]
  },
  {
   "cell_type": "code",
   "execution_count": 6,
   "metadata": {},
   "outputs": [
    {
     "name": "stdout",
     "output_type": "stream",
     "text": [
      "cybergates Gates\n"
     ]
    }
   ],
   "source": [
    "\n",
    "print(\"cybergates Gates\")"
   ]
  },
  {
   "cell_type": "code",
   "execution_count": 7,
   "metadata": {},
   "outputs": [
    {
     "name": "stdout",
     "output_type": "stream",
     "text": [
      "cybrgates\n",
      "Gates\n"
     ]
    }
   ],
   "source": [
    "print(\"cybrgates\\nGates\")"
   ]
  },
  {
   "cell_type": "code",
   "execution_count": 8,
   "metadata": {},
   "outputs": [
    {
     "name": "stdout",
     "output_type": "stream",
     "text": [
      "cybergates\"gates\n"
     ]
    }
   ],
   "source": [
    "print(\"cybergates\\\"gates\")"
   ]
  },
  {
   "cell_type": "code",
   "execution_count": 9,
   "metadata": {},
   "outputs": [
    {
     "name": "stdout",
     "output_type": "stream",
     "text": [
      "Cybergates Gates\n"
     ]
    }
   ],
   "source": [
    "phrase = \"Cybergates Gates\"\n",
    "print(phrase)"
   ]
  },
  {
   "cell_type": "code",
   "execution_count": 10,
   "metadata": {},
   "outputs": [
    {
     "name": "stdout",
     "output_type": "stream",
     "text": [
      "Cybergates Gates is Jf User\n"
     ]
    }
   ],
   "source": [
    "print(phrase + \" is Jf User\")"
   ]
  },
  {
   "cell_type": "code",
   "execution_count": 11,
   "metadata": {},
   "outputs": [
    {
     "name": "stdout",
     "output_type": "stream",
     "text": [
      "cybergates gates\n"
     ]
    }
   ],
   "source": [
    "print(phrase.lower())"
   ]
  },
  {
   "cell_type": "code",
   "execution_count": 12,
   "metadata": {},
   "outputs": [
    {
     "name": "stdout",
     "output_type": "stream",
     "text": [
      "CYBERGATES GATES\n"
     ]
    }
   ],
   "source": [
    "print(phrase.upper())"
   ]
  },
  {
   "cell_type": "code",
   "execution_count": 13,
   "metadata": {},
   "outputs": [
    {
     "name": "stdout",
     "output_type": "stream",
     "text": [
      "False\n"
     ]
    }
   ],
   "source": [
    "print(phrase.isupper())"
   ]
  },
  {
   "cell_type": "code",
   "execution_count": 14,
   "metadata": {},
   "outputs": [
    {
     "name": "stdout",
     "output_type": "stream",
     "text": [
      "False\n"
     ]
    }
   ],
   "source": [
    "print(phrase.islower())"
   ]
  },
  {
   "cell_type": "code",
   "execution_count": 15,
   "metadata": {},
   "outputs": [
    {
     "name": "stdout",
     "output_type": "stream",
     "text": [
      "True\n"
     ]
    }
   ],
   "source": [
    "print(phrase.upper().isupper())"
   ]
  },
  {
   "cell_type": "code",
   "execution_count": 16,
   "metadata": {},
   "outputs": [
    {
     "name": "stdout",
     "output_type": "stream",
     "text": [
      "True\n"
     ]
    }
   ],
   "source": [
    "print(phrase.lower().islower())"
   ]
  },
  {
   "cell_type": "code",
   "execution_count": 17,
   "metadata": {},
   "outputs": [
    {
     "name": "stdout",
     "output_type": "stream",
     "text": [
      "16\n"
     ]
    }
   ],
   "source": [
    "print(len(phrase)) #count word"
   ]
  },
  {
   "cell_type": "code",
   "execution_count": 18,
   "metadata": {},
   "outputs": [
    {
     "name": "stdout",
     "output_type": "stream",
     "text": [
      "C\n"
     ]
    }
   ],
   "source": [
    "#get individual character in str '[]index braket'\n",
    "print(phrase[0])\n",
    "#get ferst value of srt \"C\" for cybergates\n",
    "#every strg in python get Index start from ziro"
   ]
  },
  {
   "cell_type": "code",
   "execution_count": 19,
   "metadata": {},
   "outputs": [
    {
     "name": "stdout",
     "output_type": "stream",
     "text": [
      "r\n"
     ]
    }
   ],
   "source": [
    "print(phrase[4])\n",
    "#index of 'r' is 4, cybe'r'gates it start from ziro"
   ]
  },
  {
   "cell_type": "code",
   "execution_count": 20,
   "metadata": {},
   "outputs": [
    {
     "name": "stdout",
     "output_type": "stream",
     "text": [
      "0\n"
     ]
    }
   ],
   "source": [
    "print(phrase.index(\"C\"))"
   ]
  },
  {
   "cell_type": "code",
   "execution_count": 21,
   "metadata": {},
   "outputs": [
    {
     "name": "stdout",
     "output_type": "stream",
     "text": [
      "11\n"
     ]
    }
   ],
   "source": [
    "print(phrase.index(\"Gates\"))"
   ]
  },
  {
   "cell_type": "code",
   "execution_count": 22,
   "metadata": {},
   "outputs": [
    {
     "name": "stdout",
     "output_type": "stream",
     "text": [
      "7\n"
     ]
    }
   ],
   "source": [
    "print(phrase.index(\"tes\"))"
   ]
  },
  {
   "cell_type": "code",
   "execution_count": 23,
   "metadata": {},
   "outputs": [
    {
     "name": "stdout",
     "output_type": "stream",
     "text": [
      "CT Gates\n"
     ]
    }
   ],
   "source": [
    "print(phrase.replace(\"Cybergates\", \"CT\"))"
   ]
  },
  {
   "cell_type": "code",
   "execution_count": 24,
   "metadata": {},
   "outputs": [
    {
     "name": "stdout",
     "output_type": "stream",
     "text": [
      "2\n"
     ]
    }
   ],
   "source": [
    "#NUmbers\n",
    "print(2)"
   ]
  },
  {
   "cell_type": "code",
   "execution_count": 25,
   "metadata": {},
   "outputs": [
    {
     "name": "stdout",
     "output_type": "stream",
     "text": [
      "255.846116565\n"
     ]
    }
   ],
   "source": [
    "print(255.846116565)"
   ]
  },
  {
   "cell_type": "code",
   "execution_count": 26,
   "metadata": {},
   "outputs": [
    {
     "name": "stdout",
     "output_type": "stream",
     "text": [
      "-8466\n"
     ]
    }
   ],
   "source": [
    "print(-8466)"
   ]
  },
  {
   "cell_type": "code",
   "execution_count": 27,
   "metadata": {},
   "outputs": [
    {
     "name": "stdout",
     "output_type": "stream",
     "text": [
      "50\n"
     ]
    }
   ],
   "source": [
    "print(45 + 5)\n",
    "# - , + , *, /"
   ]
  },
  {
   "cell_type": "code",
   "execution_count": 28,
   "metadata": {},
   "outputs": [
    {
     "name": "stdout",
     "output_type": "stream",
     "text": [
      "17\n"
     ]
    }
   ],
   "source": [
    "print(3 * 4 + 5)"
   ]
  },
  {
   "cell_type": "code",
   "execution_count": 29,
   "metadata": {},
   "outputs": [
    {
     "name": "stdout",
     "output_type": "stream",
     "text": [
      "42\n"
     ]
    }
   ],
   "source": [
    "print(3 * (4 + 10))"
   ]
  },
  {
   "cell_type": "code",
   "execution_count": 30,
   "metadata": {},
   "outputs": [
    {
     "name": "stdout",
     "output_type": "stream",
     "text": [
      "1\n"
     ]
    }
   ],
   "source": [
    "# get remainder after devision by using %\n",
    "print(10 % 3)\n",
    "# so that 10divide by three remain '1'"
   ]
  },
  {
   "cell_type": "code",
   "execution_count": 31,
   "metadata": {},
   "outputs": [
    {
     "name": "stdout",
     "output_type": "stream",
     "text": [
      "20\n"
     ]
    }
   ],
   "source": [
    "in_number = 20\n",
    "print(in_number)"
   ]
  },
  {
   "cell_type": "code",
   "execution_count": 32,
   "metadata": {},
   "outputs": [
    {
     "name": "stdout",
     "output_type": "stream",
     "text": [
      "20 Total of My fingers\n"
     ]
    }
   ],
   "source": [
    "print(str(in_number) + \" Total of My fingers\")"
   ]
  },
  {
   "cell_type": "code",
   "execution_count": 33,
   "metadata": {},
   "outputs": [
    {
     "name": "stdout",
     "output_type": "stream",
     "text": [
      "45\n"
     ]
    }
   ],
   "source": [
    "in_second = -45\n",
    "print(abs(in_second))"
   ]
  },
  {
   "cell_type": "code",
   "execution_count": 34,
   "metadata": {},
   "outputs": [
    {
     "name": "stdout",
     "output_type": "stream",
     "text": [
      "9\n"
     ]
    }
   ],
   "source": [
    "# 3^2\n",
    "print(pow(3,2))"
   ]
  },
  {
   "cell_type": "code",
   "execution_count": 35,
   "metadata": {},
   "outputs": [
    {
     "name": "stdout",
     "output_type": "stream",
     "text": [
      "1809251394333065553493296640760748560207343510400633813116524750123642650624\n"
     ]
    }
   ],
   "source": [
    "print(pow(4,125))"
   ]
  },
  {
   "cell_type": "code",
   "execution_count": 36,
   "metadata": {},
   "outputs": [
    {
     "name": "stdout",
     "output_type": "stream",
     "text": [
      "484\n"
     ]
    }
   ],
   "source": [
    "print(max(45,484))"
   ]
  },
  {
   "cell_type": "code",
   "execution_count": 37,
   "metadata": {},
   "outputs": [
    {
     "name": "stdout",
     "output_type": "stream",
     "text": [
      "45\n"
     ]
    }
   ],
   "source": [
    "print(min(45,484))"
   ]
  },
  {
   "cell_type": "code",
   "execution_count": 38,
   "metadata": {},
   "outputs": [
    {
     "name": "stdout",
     "output_type": "stream",
     "text": [
      "3\n"
     ]
    }
   ],
   "source": [
    "print(round(3.2))"
   ]
  },
  {
   "cell_type": "code",
   "execution_count": 39,
   "metadata": {},
   "outputs": [
    {
     "name": "stdout",
     "output_type": "stream",
     "text": [
      "6\n"
     ]
    }
   ],
   "source": [
    "print(round(6.5))"
   ]
  },
  {
   "cell_type": "code",
   "execution_count": 40,
   "metadata": {},
   "outputs": [
    {
     "name": "stdout",
     "output_type": "stream",
     "text": [
      "7\n"
     ]
    }
   ],
   "source": [
    "print(round(6.7))"
   ]
  },
  {
   "cell_type": "code",
   "execution_count": 41,
   "metadata": {},
   "outputs": [
    {
     "name": "stdout",
     "output_type": "stream",
     "text": [
      "3\n"
     ]
    }
   ],
   "source": [
    "#imoprt math folder in our code\n",
    "from math import *\n",
    "print(floor(3.7))\n",
    "#floor delect remain decimal after the number"
   ]
  },
  {
   "cell_type": "code",
   "execution_count": 42,
   "metadata": {},
   "outputs": [
    {
     "name": "stdout",
     "output_type": "stream",
     "text": [
      "0\n"
     ]
    }
   ],
   "source": [
    "print(floor(0.7))"
   ]
  },
  {
   "cell_type": "code",
   "execution_count": 43,
   "metadata": {},
   "outputs": [
    {
     "name": "stdout",
     "output_type": "stream",
     "text": [
      "4\n"
     ]
    }
   ],
   "source": [
    "print(ceil(3.7))"
   ]
  },
  {
   "cell_type": "code",
   "execution_count": 44,
   "metadata": {},
   "outputs": [
    {
     "name": "stdout",
     "output_type": "stream",
     "text": [
      "4\n"
     ]
    }
   ],
   "source": [
    "print(ceil(3.2))"
   ]
  },
  {
   "cell_type": "code",
   "execution_count": 45,
   "metadata": {},
   "outputs": [
    {
     "name": "stdout",
     "output_type": "stream",
     "text": [
      "6.0\n"
     ]
    }
   ],
   "source": [
    "print(sqrt(36))"
   ]
  },
  {
   "cell_type": "code",
   "execution_count": 46,
   "metadata": {},
   "outputs": [
    {
     "name": "stdout",
     "output_type": "stream",
     "text": [
      "Enter Your Name :  iman\n",
      "Hellow iman!\n"
     ]
    }
   ],
   "source": [
    "#Getting inpurt from the users\n",
    "name = input(\"Enter Your Name :  \")\n",
    "print(\"Hellow \" + name + \"!\")\n"
   ]
  },
  {
   "cell_type": "code",
   "execution_count": 47,
   "metadata": {},
   "outputs": [
    {
     "name": "stdout",
     "output_type": "stream",
     "text": [
      "Enter Your Name :  mk\n",
      "Hellow mk!\n"
     ]
    }
   ],
   "source": [
    "name = input(\"Enter Your Name :  \")\n",
    "print(\"Hellow \" + name + \"!\")"
   ]
  },
  {
   "cell_type": "code",
   "execution_count": 48,
   "metadata": {},
   "outputs": [
    {
     "name": "stdout",
     "output_type": "stream",
     "text": [
      "Enter Your Name :  hbh\n",
      "Hellow hbh!\n"
     ]
    }
   ],
   "source": [
    "name = input(\"Enter Your Name :  \")\n",
    "print(\"Hellow \" + name + \"!\")\n"
   ]
  },
  {
   "cell_type": "code",
   "execution_count": 49,
   "metadata": {},
   "outputs": [
    {
     "name": "stdout",
     "output_type": "stream",
     "text": [
      "Enter Your Name :  lml\n",
      "Enter Your Age :  75\n",
      "Hellow lml your Age Is 75\n"
     ]
    }
   ],
   "source": [
    "name = input(\"Enter Your Name :  \")\n",
    "age = input(\"Enter Your Age :  \")\n",
    "print(\"Hellow \" + name + \" your Age Is \" + age)"
   ]
  },
  {
   "cell_type": "code",
   "execution_count": 50,
   "metadata": {},
   "outputs": [
    {
     "name": "stdout",
     "output_type": "stream",
     "text": [
      "Enter Your Ferst Number :  96\n",
      "Enter Your second Number :  63\n",
      "9663\n"
     ]
    }
   ],
   "source": [
    "#basic calculater\n",
    "num1 = input(\"Enter Your Ferst Number :  \")\n",
    "num2 = input(\"Enter Your second Number :  \")\n",
    "result = num1 + num2\n",
    "print(result)\n",
    "#if you get input by default python dif as STR"
   ]
  },
  {
   "cell_type": "code",
   "execution_count": 51,
   "metadata": {},
   "outputs": [
    {
     "name": "stdout",
     "output_type": "stream",
     "text": [
      "Enter Your Ferst Number :  65\n",
      "Enter Your second Number :  36\n",
      "101\n"
     ]
    }
   ],
   "source": [
    "num13 = input(\"Enter Your Ferst Number :  \")\n",
    "num23 = input(\"Enter Your second Number :  \")\n",
    "result = int(num13) + int(num23)\n",
    "print(result)"
   ]
  },
  {
   "cell_type": "code",
   "execution_count": 52,
   "metadata": {},
   "outputs": [
    {
     "name": "stdout",
     "output_type": "stream",
     "text": [
      "Enter Your Ferst Number :  63\n",
      "Enter Your second Number :  56.23\n",
      "119.22999999999999\n"
     ]
    }
   ],
   "source": [
    "num13 = input(\"Enter Your Ferst Number :  \")\n",
    "num23 = input(\"Enter Your second Number :  \")\n",
    "result = float(num13) + float(num23)\n",
    "print(result)"
   ]
  },
  {
   "cell_type": "code",
   "execution_count": 53,
   "metadata": {},
   "outputs": [
    {
     "name": "stdout",
     "output_type": "stream",
     "text": [
      "Enter Your Color :  l;\n",
      "Enter Your Noun :  kk\n",
      "Enter Your Celebrity :  j\n",
      "Roses are l;\n",
      "kk Are Blue\n",
      "I love j\n"
     ]
    }
   ],
   "source": [
    "#libs\n",
    "color = input(\"Enter Your Color :  \")\n",
    "noun = input(\"Enter Your Noun :  \")\n",
    "celebrity = input(\"Enter Your Celebrity :  \")\n",
    "\n",
    "print(\"Roses are \" + color)\n",
    "print(noun + \" Are Blue\")\n",
    "print(\"I love \" + celebrity)"
   ]
  },
  {
   "cell_type": "code",
   "execution_count": 54,
   "metadata": {},
   "outputs": [
    {
     "name": "stdout",
     "output_type": "stream",
     "text": [
      "['kelv', 'mike', 'ton', 'amton', 'oscar', 'jimmy']\n"
     ]
    }
   ],
   "source": [
    "#Lists\n",
    "frends = [\"kelv\", \"mike\", \"ton\", \"amton\", \"oscar\", \"jimmy\"]\n",
    "\n",
    "\n",
    "print(frends)"
   ]
  },
  {
   "cell_type": "code",
   "execution_count": 55,
   "metadata": {},
   "outputs": [
    {
     "name": "stdout",
     "output_type": "stream",
     "text": [
      "kelv\n"
     ]
    }
   ],
   "source": [
    "print(frends[0])\n",
    "#get ferst from list"
   ]
  },
  {
   "cell_type": "code",
   "execution_count": 56,
   "metadata": {},
   "outputs": [
    {
     "name": "stdout",
     "output_type": "stream",
     "text": [
      "ton\n"
     ]
    }
   ],
   "source": [
    "print(frends[2])"
   ]
  },
  {
   "cell_type": "code",
   "execution_count": 57,
   "metadata": {},
   "outputs": [
    {
     "name": "stdout",
     "output_type": "stream",
     "text": [
      "jimmy\n"
     ]
    }
   ],
   "source": [
    "print(frends[-1])\n",
    "#get last from the lisyt"
   ]
  },
  {
   "cell_type": "code",
   "execution_count": 58,
   "metadata": {},
   "outputs": [
    {
     "name": "stdout",
     "output_type": "stream",
     "text": [
      "mike\n"
     ]
    }
   ],
   "source": [
    "print(frends[1])"
   ]
  },
  {
   "cell_type": "code",
   "execution_count": 59,
   "metadata": {},
   "outputs": [
    {
     "name": "stdout",
     "output_type": "stream",
     "text": [
      "amton\n"
     ]
    }
   ],
   "source": [
    "print(frends[-3])"
   ]
  },
  {
   "cell_type": "code",
   "execution_count": 60,
   "metadata": {},
   "outputs": [
    {
     "name": "stdout",
     "output_type": "stream",
     "text": [
      "['mike', 'ton', 'amton', 'oscar', 'jimmy']\n"
     ]
    }
   ],
   "source": [
    "print(frends[1:])\n",
    "# remove ferst index"
   ]
  },
  {
   "cell_type": "code",
   "execution_count": 61,
   "metadata": {},
   "outputs": [
    {
     "name": "stdout",
     "output_type": "stream",
     "text": [
      "ANNA\n"
     ]
    }
   ],
   "source": [
    "frends[1] = \"ANNA\"\n",
    "print(frends[1])"
   ]
  },
  {
   "cell_type": "code",
   "execution_count": 62,
   "metadata": {},
   "outputs": [
    {
     "name": "stdout",
     "output_type": "stream",
     "text": [
      "['kelv', 'ANNA', 'ton', 'amton', 'oscar', 'jimmy']\n"
     ]
    }
   ],
   "source": [
    "print(frends)\n"
   ]
  },
  {
   "cell_type": "code",
   "execution_count": 63,
   "metadata": {},
   "outputs": [
    {
     "name": "stdout",
     "output_type": "stream",
     "text": [
      "['kelv', 'ANNA', 'ton', 'amton', 'oscar', 'jimmy', 4, 5, 6, 85, 52, 52]\n"
     ]
    }
   ],
   "source": [
    "luck_number = [4, 5, 6, 85, 52, 52]\n",
    "frends.extend(luck_number)\n",
    "print(frends)"
   ]
  },
  {
   "cell_type": "code",
   "execution_count": 64,
   "metadata": {},
   "outputs": [
    {
     "name": "stdout",
     "output_type": "stream",
     "text": [
      "['kelv', 'ANNA', 'ton', 'amton', 'oscar', 'jimmy', 4, 5, 6, 85, 52, 52, 'john']\n"
     ]
    }
   ],
   "source": [
    "frends.append(\"john\")\n",
    "print(frends)"
   ]
  },
  {
   "cell_type": "code",
   "execution_count": 65,
   "metadata": {},
   "outputs": [
    {
     "name": "stdout",
     "output_type": "stream",
     "text": [
      "['cyber', 'kelv', 'ANNA', 'ton', 'amton', 'oscar', 'jimmy', 4, 5, 6, 85, 52, 52, 'john']\n"
     ]
    }
   ],
   "source": [
    "frends.insert(0, \"cyber\")\n",
    "print(frends)"
   ]
  },
  {
   "cell_type": "code",
   "execution_count": 66,
   "metadata": {},
   "outputs": [
    {
     "name": "stdout",
     "output_type": "stream",
     "text": [
      "['cyber', 'kelv', 'ANNA', 'ton', 'amton', 'oscar', 'jimmy', 4, 5, 6, 85, 52, 52]\n"
     ]
    }
   ],
   "source": [
    "frends.remove(\"john\")\n",
    "print(frends)"
   ]
  },
  {
   "cell_type": "code",
   "execution_count": 67,
   "metadata": {},
   "outputs": [
    {
     "name": "stdout",
     "output_type": "stream",
     "text": [
      "['cyber', 'kelv', 'ANNA', 'ton', 'amton', 'oscar', 'jimmy', 4, 5, 6, 85, 52]\n"
     ]
    }
   ],
   "source": [
    "frends.pop()\n",
    "print(frends)\n",
    "#pop remove last from the list"
   ]
  },
  {
   "cell_type": "code",
   "execution_count": 68,
   "metadata": {},
   "outputs": [
    {
     "name": "stdout",
     "output_type": "stream",
     "text": [
      "3\n"
     ]
    }
   ],
   "source": [
    "#find if item is availble in list\n",
    "print(frends.index(\"ton\"))"
   ]
  },
  {
   "cell_type": "code",
   "execution_count": 69,
   "metadata": {},
   "outputs": [
    {
     "name": "stdout",
     "output_type": "stream",
     "text": [
      "1\n"
     ]
    }
   ],
   "source": [
    "#count howmany otm founded in the list\n",
    "print(frends.count(\"ton\"))"
   ]
  },
  {
   "cell_type": "code",
   "execution_count": 70,
   "metadata": {},
   "outputs": [],
   "source": [
    "# only work in str not int\n",
    "# frends.sort()\n",
    "# print(frends)"
   ]
  },
  {
   "cell_type": "code",
   "execution_count": 71,
   "metadata": {},
   "outputs": [
    {
     "name": "stdout",
     "output_type": "stream",
     "text": [
      "[4, 5, 6, 52, 52, 85]\n"
     ]
    }
   ],
   "source": [
    "luck_number.sort()\n",
    "print(luck_number)"
   ]
  },
  {
   "cell_type": "code",
   "execution_count": 72,
   "metadata": {},
   "outputs": [
    {
     "name": "stdout",
     "output_type": "stream",
     "text": [
      "['cyber', 'kelv', 'ANNA', 'ton', 'amton', 'oscar', 'jimmy', 4, 5, 6, 85, 52]\n"
     ]
    }
   ],
   "source": [
    "#copy value\n",
    "frends2 = frends.copy()\n",
    "print(frends2)"
   ]
  },
  {
   "cell_type": "code",
   "execution_count": 73,
   "metadata": {},
   "outputs": [
    {
     "name": "stdout",
     "output_type": "stream",
     "text": [
      "4\n"
     ]
    }
   ],
   "source": [
    "#Trups\n",
    "\n",
    "coordinates = (3,4)\n",
    "\n",
    "print(coordinates[1])"
   ]
  },
  {
   "cell_type": "code",
   "execution_count": 74,
   "metadata": {},
   "outputs": [],
   "source": [
    "#'tuple' object does not support item assignment\n",
    "#coordinates[1] = 10\n",
    "#print(coordinates[1])"
   ]
  },
  {
   "cell_type": "code",
   "execution_count": 75,
   "metadata": {},
   "outputs": [
    {
     "name": "stdout",
     "output_type": "stream",
     "text": [
      "it out of fuction\n"
     ]
    }
   ],
   "source": [
    "#fuctions\n",
    "\n",
    "def fuction():\n",
    "    print(\"hello word\")\n",
    "print(\"it out of fuction\")"
   ]
  },
  {
   "cell_type": "code",
   "execution_count": 76,
   "metadata": {},
   "outputs": [
    {
     "name": "stdout",
     "output_type": "stream",
     "text": [
      "it fiction\n"
     ]
    }
   ],
   "source": [
    "def fuction1():\n",
    "    print(\"it fiction\")\n",
    "fuction1()"
   ]
  },
  {
   "cell_type": "code",
   "execution_count": 77,
   "metadata": {},
   "outputs": [
    {
     "name": "stdout",
     "output_type": "stream",
     "text": [
      "Your name is john\n"
     ]
    }
   ],
   "source": [
    "def user(name):\n",
    "    print(\"Your name is \" + name)\n",
    "user(\"john\")\n",
    "    "
   ]
  },
  {
   "cell_type": "code",
   "execution_count": 78,
   "metadata": {},
   "outputs": [
    {
     "name": "stdout",
     "output_type": "stream",
     "text": [
      "Your name is john\n",
      "Your name is anna\n",
      "Your name is jtbwai\n",
      "Your name is cyber\n"
     ]
    }
   ],
   "source": [
    "def user(name):\n",
    "    print(\"Your name is \" + name)\n",
    "    \n",
    "user(\"john\")\n",
    "user(\"anna\")\n",
    "user(\"jtbwai\")\n",
    "user(\"cyber\")"
   ]
  },
  {
   "cell_type": "code",
   "execution_count": 79,
   "metadata": {},
   "outputs": [
    {
     "name": "stdout",
     "output_type": "stream",
     "text": [
      "Your name is john, Your Age is 52\n",
      "Your name is anna, Your Age is 63\n",
      "Your name is jtbwai, Your Age is 25\n",
      "Your name is cyber, Your Age is 20\n"
     ]
    }
   ],
   "source": [
    "def user(name, age):\n",
    "    print(\"Your name is \" + name + \", Your Age is \" + str(age))\n",
    "user(\"john\", 52)\n",
    "user(\"anna\", 63)\n",
    "user(\"jtbwai\", 25)\n",
    "user(\"cyber\", 20)"
   ]
  },
  {
   "cell_type": "code",
   "execution_count": 80,
   "metadata": {},
   "outputs": [],
   "source": [
    "#return staement\n",
    "def cube(num):\n",
    "    num*num*num\n",
    "cube(3)\n",
    "#did not print anything"
   ]
  },
  {
   "cell_type": "code",
   "execution_count": 81,
   "metadata": {},
   "outputs": [
    {
     "data": {
      "text/plain": [
       "27"
      ]
     },
     "execution_count": 81,
     "metadata": {},
     "output_type": "execute_result"
    }
   ],
   "source": [
    "def cube(num):\n",
    "    return num*num*num\n",
    "cube(3)\n",
    "#use retutn to print out of fuction"
   ]
  },
  {
   "cell_type": "code",
   "execution_count": 82,
   "metadata": {},
   "outputs": [
    {
     "name": "stdout",
     "output_type": "stream",
     "text": [
      "None\n"
     ]
    }
   ],
   "source": [
    "def cube(num):\n",
    "    num*num*num\n",
    "print(cube(3))"
   ]
  },
  {
   "cell_type": "code",
   "execution_count": 83,
   "metadata": {},
   "outputs": [
    {
     "name": "stdout",
     "output_type": "stream",
     "text": [
      "64\n"
     ]
    }
   ],
   "source": [
    "def cube1(num1):\n",
    "    return num1*num1*num1\n",
    "result = cube1(4)\n",
    "\n",
    "print(result)\n"
   ]
  },
  {
   "cell_type": "code",
   "execution_count": 84,
   "metadata": {},
   "outputs": [
    {
     "name": "stdout",
     "output_type": "stream",
     "text": [
      "YOU ARE MALE\n"
     ]
    }
   ],
   "source": [
    "#if astatiment\n",
    "is_male = True\n",
    "\n",
    "if is_male:\n",
    "    print(\"YOU ARE MALE\")\n",
    "else:\n",
    "    (\"You are not male\")"
   ]
  },
  {
   "cell_type": "code",
   "execution_count": 85,
   "metadata": {},
   "outputs": [
    {
     "name": "stdout",
     "output_type": "stream",
     "text": [
      "YOU ARE MALE & TALL\n"
     ]
    }
   ],
   "source": [
    "is_male = True\n",
    "is_tall = True\n",
    "\n",
    "if is_male or is_tall:\n",
    "    print(\"YOU ARE MALE & TALL\")\n",
    "else:\n",
    "    (\"You are not male\")"
   ]
  },
  {
   "cell_type": "code",
   "execution_count": 86,
   "metadata": {},
   "outputs": [
    {
     "name": "stdout",
     "output_type": "stream",
     "text": [
      "YOU ARE MALE & TALL\n"
     ]
    }
   ],
   "source": [
    "is_male = False\n",
    "is_tall = True\n",
    "\n",
    "if is_male or is_tall:\n",
    "    print(\"YOU ARE MALE & TALL\")\n",
    "else:\n",
    "    (\"You are not male\")"
   ]
  },
  {
   "cell_type": "code",
   "execution_count": 87,
   "metadata": {},
   "outputs": [
    {
     "name": "stdout",
     "output_type": "stream",
     "text": [
      "You are not male\n"
     ]
    }
   ],
   "source": [
    "# usinr 'or' in if strtmeni\n",
    "is_male = False\n",
    "is_tall = False\n",
    "\n",
    "if is_male or is_tall:\n",
    "    print(\"YOU ARE MALE & TALL\")\n",
    "    \n",
    "else:\n",
    "    print(\"You are not male\")"
   ]
  },
  {
   "cell_type": "code",
   "execution_count": 88,
   "metadata": {},
   "outputs": [
    {
     "name": "stdout",
     "output_type": "stream",
     "text": [
      "You are not male\n"
     ]
    }
   ],
   "source": [
    "#using 'and' inif startiment\n",
    "# usinr 'or' in if strtmeni\n",
    "is_male = False\n",
    "is_tall = False\n",
    "\n",
    "if is_male and is_tall: # thesr condition must be true both\n",
    "    print(\"YOU ARE MALE & TALL\")\n",
    "    \n",
    "else:\n",
    "    print(\"You are not male\")"
   ]
  },
  {
   "cell_type": "code",
   "execution_count": 89,
   "metadata": {},
   "outputs": [
    {
     "name": "stdout",
     "output_type": "stream",
     "text": [
      "You are not male\n"
     ]
    }
   ],
   "source": [
    "#using 'and' inif startiment\n",
    "# usinr 'or' in if strtmeni\n",
    "is_male = False\n",
    "is_tall = True\n",
    "\n",
    "if is_male and is_tall: # thesr condition must be true both\n",
    "    print(\"YOU ARE MALE & TALL\")\n",
    "    \n",
    "else:\n",
    "    print(\"You are not male\")"
   ]
  },
  {
   "cell_type": "code",
   "execution_count": 90,
   "metadata": {},
   "outputs": [
    {
     "name": "stdout",
     "output_type": "stream",
     "text": [
      "YOU ARE MALE & TALL\n"
     ]
    }
   ],
   "source": [
    "#using 'and' inif startiment\n",
    "# usinr 'or' in if strtmeni\n",
    "is_male = True\n",
    "is_tall = True\n",
    "\n",
    "if is_male and is_tall: # thesr condition must be true both\n",
    "    print(\"YOU ARE MALE & TALL\")\n",
    "    \n",
    "else:\n",
    "    print(\"You are not male\")"
   ]
  },
  {
   "cell_type": "code",
   "execution_count": 91,
   "metadata": {},
   "outputs": [
    {
     "name": "stdout",
     "output_type": "stream",
     "text": [
      "You are tall but not men\n"
     ]
    }
   ],
   "source": [
    "#using 'and' inif startiment\n",
    "# usinr 'or' in if strtmeni\n",
    "is_male = False\n",
    "is_tall = True\n",
    "if is_male and is_tall: # thesr condition must be true both\n",
    "    print(\"YOU ARE MALE & TALL\")\n",
    "elif is_male and not(is_tall):\n",
    "    print(\"You are short male\")\n",
    "elif not(is_male) and is_tall:\n",
    "    print(\"You are tall but not men\")  #these\n",
    "else:\n",
    "    print(\"You are not male\")"
   ]
  },
  {
   "cell_type": "code",
   "execution_count": 92,
   "metadata": {},
   "outputs": [
    {
     "name": "stdout",
     "output_type": "stream",
     "text": [
      "You are short male\n"
     ]
    }
   ],
   "source": [
    "is_male = True\n",
    "is_tall = False\n",
    "if is_male and is_tall: # thesr condition must be true both\n",
    "    print(\"YOU ARE MALE & TALL\")\n",
    "elif is_male and not(is_tall):\n",
    "    print(\"You are short male\") #these\n",
    "elif not(is_male) and is_tall:\n",
    "    print(\"You are tall but not men\")  \n",
    "else:\n",
    "    print(\"You are not male\")"
   ]
  },
  {
   "cell_type": "code",
   "execution_count": 93,
   "metadata": {},
   "outputs": [
    {
     "data": {
      "text/plain": [
       "200"
      ]
     },
     "execution_count": 93,
     "metadata": {},
     "output_type": "execute_result"
    }
   ],
   "source": [
    "# num1 == num2, number one is equal to number to\n",
    "#num1 != num2, numberone isnot equal to numbert to\n",
    "# < greater than, < less than, <= less or equal, >= greater or equal\n",
    "\n",
    "\n",
    "def max_num(num1, num2, num3):\n",
    "    if num1 >= num2 and num1 >= num3:\n",
    "        return num1\n",
    "    elif num2 >= num1 and num2 >= num3:\n",
    "        return num2\n",
    "    else:\n",
    "        return num3\n",
    "max_num(200,200,200)"
   ]
  },
  {
   "cell_type": "code",
   "execution_count": 94,
   "metadata": {},
   "outputs": [
    {
     "name": "stdout",
     "output_type": "stream",
     "text": [
      "Enter Your Ferst Number: 78\n",
      "Enter Your Operation: +\n",
      "Enter Your Ferst Number: 45\n",
      "123.0\n"
     ]
    }
   ],
   "source": [
    "# build calculater\n",
    "\n",
    "num1 = float(input(\"Enter Your Ferst Number: \"))\n",
    "opp = input(\"Enter Your Operation: \")\n",
    "num2 = float(input(\"Enter Your Ferst Number: \"))\n",
    "\n",
    "if opp == \"+\":\n",
    "    print(num1 + num2)\n",
    "elif opp == \"-\":\n",
    "    print(num1 - num2)\n",
    "elif opp == \"*\":\n",
    "    print(num1 * num2)\n",
    "elif opp == \"%\":\n",
    "    print(num1 % num2)\n",
    "elif opp == \"^\":\n",
    "    print(pow(num1,num2))\n",
    "elif opp == \"/\":\n",
    "    print(num1 / num2)\n",
    "elif opp == \">\":\n",
    "    print(\"Ferst Number is Biger than Second Number\")\n",
    "elif opp == \"<\":\n",
    "    print(\"Ferst Number is Less than Second Number\")\n",
    "else:\n",
    "    print(\"Invalid Opperation\")\n",
    "\n",
    "\n"
   ]
  },
  {
   "cell_type": "code",
   "execution_count": 95,
   "metadata": {},
   "outputs": [
    {
     "name": "stdout",
     "output_type": "stream",
     "text": [
      "Enter Your Name :  66\n",
      "Enter Your Age :  66\n",
      "Hellow 66 your Age Is 66\n"
     ]
    }
   ],
   "source": [
    "name = input(\"Enter Your Name :  \")\n",
    "age = input(\"Enter Your Age :  \")\n",
    "print(\"Hellow \" + name + \" your Age Is \" + age)"
   ]
  },
  {
   "cell_type": "code",
   "execution_count": 96,
   "metadata": {},
   "outputs": [
    {
     "name": "stdout",
     "output_type": "stream",
     "text": [
      "Enter WORD:  imani\n",
      "INVALD KEY\n"
     ]
    }
   ],
   "source": [
    "#dectatinary\n",
    "\n",
    "cyber = {\n",
    "    \"jan\": \"January\",\n",
    "    \"feb\": \"February\",\n",
    "    \"marc\": \"March\",\n",
    "    \"apr\": \"April\",\n",
    "    \"may\": \"may\",\n",
    "    \"jun\": \"june\",\n",
    "    \"jul\": \"july\",\n",
    "    \"agst\": \"Agust\",\n",
    "}\n",
    "\n",
    "ima = input(\"Enter WORD:  \")\n",
    "print(cyber.get(ima,\"INVALD KEY\"))"
   ]
  },
  {
   "cell_type": "code",
   "execution_count": 97,
   "metadata": {},
   "outputs": [
    {
     "name": "stdout",
     "output_type": "stream",
     "text": [
      "1\n",
      "2\n",
      "3\n",
      "4\n",
      "5\n",
      "6\n",
      "7\n",
      "8\n",
      "9\n",
      "10\n"
     ]
    }
   ],
   "source": [
    "#while loop\n",
    "i = 1\n",
    "\n",
    "while i <= 10:\n",
    "    print(i)\n",
    "    i += 1"
   ]
  },
  {
   "cell_type": "code",
   "execution_count": null,
   "metadata": {},
   "outputs": [],
   "source": [
    "#bulding Gess game\n",
    "Secret_word = \"Cybergates\"\n",
    "Gess = \"\"\n",
    "while Gess != Secret_word:\n",
    "    Gess = input(\"Enter Your Gess:  \")\n",
    "print(\"You Won!!!\")"
   ]
  },
  {
   "cell_type": "code",
   "execution_count": null,
   "metadata": {},
   "outputs": [],
   "source": [
    "#bulding Gess game\n",
    "Secret_word = \"Cybergates\"\n",
    "\n",
    "\n",
    "Gess = \"\"\n",
    "Gess_count = 0\n",
    "Gess_limit = 3\n",
    "Out_off_gess = False\n",
    "\n",
    "\n",
    "while Gess != Secret_word and not(Out_off_gess):\n",
    "    if Gess_count < Gess_limit:\n",
    "        Gess = input(\"Enter Your Gess:  \")\n",
    "        Gess_count += 1\n",
    "    else:\n",
    "        Out_off_gess = True\n",
    "    \n",
    "if Out_off_gess:\n",
    "    print(\"OUT OF GESSES, YOU LOSE\")\n",
    "else:\n",
    "    print(\"Conclatulations, YOU WON\")"
   ]
  },
  {
   "cell_type": "code",
   "execution_count": null,
   "metadata": {},
   "outputs": [],
   "source": [
    "type(1)"
   ]
  },
  {
   "cell_type": "code",
   "execution_count": null,
   "metadata": {},
   "outputs": [],
   "source": [
    "type(\"784\")"
   ]
  },
  {
   "cell_type": "code",
   "execution_count": null,
   "metadata": {},
   "outputs": [],
   "source": [
    "type(True)"
   ]
  },
  {
   "cell_type": "code",
   "execution_count": null,
   "metadata": {},
   "outputs": [],
   "source": [
    "#for loop\n",
    "for letters in \"Cybergates\":\n",
    "    print(letters)"
   ]
  },
  {
   "cell_type": "code",
   "execution_count": null,
   "metadata": {},
   "outputs": [],
   "source": [
    "frends = [\"jimm\", \"ton\", \"anna\"]\n",
    "\n",
    "for frend in frends:\n",
    "    print(frend)"
   ]
  },
  {
   "cell_type": "code",
   "execution_count": null,
   "metadata": {},
   "outputs": [],
   "source": [
    "for index in range(10):\n",
    "    print(index)"
   ]
  },
  {
   "cell_type": "code",
   "execution_count": null,
   "metadata": {},
   "outputs": [],
   "source": [
    "for index in range(4,10):\n",
    "    print(index)"
   ]
  },
  {
   "cell_type": "code",
   "execution_count": null,
   "metadata": {},
   "outputs": [],
   "source": [
    "for index in range(5):\n",
    "    if index == 0:\n",
    "        print(\"Ferst Intergration\")\n",
    "    else:\n",
    "        print(\"Not Ferst\")"
   ]
  },
  {
   "cell_type": "code",
   "execution_count": null,
   "metadata": {},
   "outputs": [],
   "source": [
    "#exponet fuction\n",
    "print(2**3)"
   ]
  },
  {
   "cell_type": "code",
   "execution_count": null,
   "metadata": {},
   "outputs": [],
   "source": [
    "def raise_powr(base, power):\n",
    "    result = 1\n",
    "    for index in range(power):\n",
    "        result = base ** power\n",
    "    return result\n",
    "\n",
    "try:\n",
    "    base = int(input(\"Enter Your Enteger 'BASE' :  \"))\n",
    "    powere = int(input(\"Enter Your Enteger 'POWER' :  \"))\n",
    "    print(raise_powr(base,powere))\n",
    "except:\n",
    "    print(\"Invalidy key\")"
   ]
  },
  {
   "cell_type": "code",
   "execution_count": null,
   "metadata": {},
   "outputs": [],
   "source": [
    "#2D list & Nested LOOPS\n",
    "number = [\n",
    "    [1, 2, 3],\n",
    "    [4, 5, 6],\n",
    "    [7, 8, 9],\n",
    "    [0]\n",
    "]\n",
    "\n",
    "\n",
    "print(number[0][2])"
   ]
  },
  {
   "cell_type": "code",
   "execution_count": null,
   "metadata": {},
   "outputs": [],
   "source": [
    "number12 = [\n",
    "    [1, 2, 3],\n",
    "    [4, 5, 6],\n",
    "    [7, 8, 9],\n",
    "    [0]\n",
    "]\n",
    "\n",
    "for row in number12:\n",
    "    print(row)\n",
    "\n"
   ]
  },
  {
   "cell_type": "code",
   "execution_count": null,
   "metadata": {},
   "outputs": [],
   "source": [
    "number12 = [\n",
    "    [1, 2, 3],\n",
    "    [4, 5, 6],\n",
    "    [7, 8, 9],\n",
    "    [0]\n",
    "]\n",
    "\n",
    "for row in number12:\n",
    "    for col in row:\n",
    "        print(col)"
   ]
  },
  {
   "cell_type": "code",
   "execution_count": null,
   "metadata": {},
   "outputs": [],
   "source": [
    "#buld Translator\n",
    "def translate(phrase):\n",
    "    translation =\"\"\n",
    "    for letter in phrase:\n",
    "        if letter in \"AEIOUaeiou\":\n",
    "             translation = translation + \"g\"\n",
    "        else:\n",
    "             translation = translation + letter\n",
    "                \n",
    "    return translation\n",
    "\n",
    "print(translate(input(\"Enter A phase :   \")))"
   ]
  },
  {
   "cell_type": "code",
   "execution_count": null,
   "metadata": {},
   "outputs": [],
   "source": [
    "#buld Translator\n",
    "def translate(phrase):\n",
    "    translation =\"\"\n",
    "    for letter in phrase:\n",
    "        if letter.lower() in \"aeiou\":\n",
    "            if letter.isupper():\n",
    "                 translation = translation + \"G\"\n",
    "            else:\n",
    "                translation = translation + \"g\"\n",
    "        else:\n",
    "             translation = translation + letter\n",
    "                \n",
    "    return translation\n",
    "\n",
    "print(translate(input(\"Enter A phase :   \")))"
   ]
  },
  {
   "cell_type": "code",
   "execution_count": null,
   "metadata": {},
   "outputs": [],
   "source": [
    "'''\n",
    "COMMENT '','',''\n",
    "'''\n",
    "print(\"cyber\")"
   ]
  },
  {
   "cell_type": "code",
   "execution_count": null,
   "metadata": {},
   "outputs": [],
   "source": [
    "# TRY EXCEPT\n",
    "try:\n",
    "    number = float(input(\"Enter Your Number:  \"))\n",
    "    print(number)\n",
    "except:\n",
    "    print(\"Invallid Key\")"
   ]
  },
  {
   "cell_type": "code",
   "execution_count": null,
   "metadata": {},
   "outputs": [],
   "source": [
    "\n",
    "try:\n",
    "    value = 10/0\n",
    "    number = float(input(\"Enter Your Number:  \"))\n",
    "    print(number)\n",
    "except ZeroDivisionError:\n",
    "    print(\"Divided by ziro\")\n",
    "except ValueError:\n",
    "    print(\"Invalid Key\")"
   ]
  },
  {
   "cell_type": "code",
   "execution_count": null,
   "metadata": {},
   "outputs": [],
   "source": [
    "try:\n",
    "    value = 10/0\n",
    "    number = float(input(\"Enter Your Number:  \"))\n",
    "    print(number)\n",
    "except ZeroDivisionError as err:\n",
    "    print(err)\n",
    "except ValueError:\n",
    "    print(\"Invalid Key\")"
   ]
  },
  {
   "cell_type": "code",
   "execution_count": null,
   "metadata": {},
   "outputs": [],
   "source": [
    "# \"r\" stand for read, do not allow any changea in file\n",
    "# \"w\" stand for write allow to edit file information\n",
    "# \"a\" stand for append dont allow to change but all info at the end of filt\n",
    "#\"r+\" standnf fpr read and  write\n",
    "\n",
    "name = open(\"name.txt\", \"r\")\n",
    "print(name.readable()) #check fille if is reable\n",
    "name.close()"
   ]
  },
  {
   "cell_type": "code",
   "execution_count": null,
   "metadata": {},
   "outputs": [],
   "source": [
    "name = open(\"name.txt\", \"r\")\n",
    "print(name.read()) #check fille if is reable\n",
    "name.close()"
   ]
  },
  {
   "cell_type": "code",
   "execution_count": null,
   "metadata": {},
   "outputs": [],
   "source": [
    "name = open(\"name.txt\", \"r\")\n",
    "print(name.readline()) #check fille if is reable\n",
    "name.close()"
   ]
  },
  {
   "cell_type": "code",
   "execution_count": null,
   "metadata": {},
   "outputs": [],
   "source": [
    "name = open(\"name.txt\", \"r\")\n",
    "print(name.readline()) \n",
    "print(name.readline()) \n",
    "name.close()"
   ]
  },
  {
   "cell_type": "code",
   "execution_count": null,
   "metadata": {},
   "outputs": [],
   "source": [
    "name = open(\"name.txt\", \"r\")\n",
    "print(name.readlines()) \n",
    "\n",
    "name.close()"
   ]
  },
  {
   "cell_type": "code",
   "execution_count": null,
   "metadata": {},
   "outputs": [],
   "source": [
    "name = open(\"name.txt\", \"r\")\n",
    "print(name.readlines()[1]) \n",
    "\n",
    "name.close()"
   ]
  },
  {
   "cell_type": "code",
   "execution_count": null,
   "metadata": {},
   "outputs": [],
   "source": [
    "name = open(\"name.txt\", \"r\")\n",
    "\n",
    "for employes in name.readlines():\n",
    "    print(employes)\n",
    "\n",
    "name.close()\n"
   ]
  },
  {
   "cell_type": "code",
   "execution_count": null,
   "metadata": {},
   "outputs": [],
   "source": [
    "# write to the file\n",
    "\n",
    "name = open(\"name.txt\", \"w\")\n",
    "\n",
    "name.write(\"cyber - other\")\n",
    "\n",
    "if name.write ==  True:\n",
    "    print(\"yes\")\n",
    "else:\n",
    "    print(\"no\")\n",
    "\n",
    "name.close()"
   ]
  },
  {
   "cell_type": "code",
   "execution_count": null,
   "metadata": {},
   "outputs": [],
   "source": [
    "name = open(\"name.txt\", \"a\")\n",
    "\n",
    "name.write(\"\\nsam - samson\")\n",
    "\n",
    "name.close()"
   ]
  },
  {
   "cell_type": "code",
   "execution_count": null,
   "metadata": {},
   "outputs": [],
   "source": [
    "name = open(\"name.txt\", \"w\")\n",
    "\n",
    "name.write(\"\\nsam - samson\")\n",
    "\n",
    "name.close()"
   ]
  },
  {
   "cell_type": "code",
   "execution_count": null,
   "metadata": {},
   "outputs": [],
   "source": [
    "name = open(\"index.php\", \"w\")\n",
    "\n",
    "name.write(\"<?php echo $cyber; ?>\")\n",
    "\n",
    "name.close()"
   ]
  },
  {
   "cell_type": "code",
   "execution_count": null,
   "metadata": {},
   "outputs": [],
   "source": [
    "name = \"cyber\"\n",
    "\n",
    "type(name)"
   ]
  },
  {
   "cell_type": "code",
   "execution_count": null,
   "metadata": {},
   "outputs": [],
   "source": [
    "name = open(\"app.py\", \"w\")\n",
    "\n",
    "name.write(\"name = 25 ** 5\")\n",
    "\n",
    "name.close()"
   ]
  },
  {
   "cell_type": "code",
   "execution_count": null,
   "metadata": {},
   "outputs": [],
   "source": [
    " \n",
    "\n"
   ]
  },
  {
   "cell_type": "code",
   "execution_count": null,
   "metadata": {},
   "outputs": [],
   "source": []
  },
  {
   "cell_type": "code",
   "execution_count": null,
   "metadata": {},
   "outputs": [],
   "source": [
    "#Class and aoabjectives\n",
    "#class\n",
    "class student:\n",
    "    def __init__(self, name, major, gpa, is_on_probition):\n",
    "        self.name = name\n",
    "        self.major = major\n",
    "        self.gpa = gpa\n",
    "        self.is_on_probition = is_on_probition\n",
    "        \n",
    "\n",
    "\n"
   ]
  },
  {
   "cell_type": "code",
   "execution_count": null,
   "metadata": {},
   "outputs": [],
   "source": [
    "#objectives\n",
    "student1 = student(\"jimm\", \"Bussiness\", 3.1, False)\n",
    "\n",
    "print(student1.name)\n",
    "print(student1.gpa)\n",
    "print(student1.is_on_probition)"
   ]
  },
  {
   "cell_type": "code",
   "execution_count": null,
   "metadata": {},
   "outputs": [],
   "source": [
    "type(student)"
   ]
  },
  {
   "cell_type": "code",
   "execution_count": null,
   "metadata": {},
   "outputs": [],
   "source": [
    "class Question:\n",
    "    def __init__(self, prompt, answer):\n",
    "        self.prompt = prompt\n",
    "        self.answer = answer"
   ]
  },
  {
   "cell_type": "code",
   "execution_count": null,
   "metadata": {},
   "outputs": [],
   "source": [
    "question_prompts = [\n",
    "    \"what are color are apples?\\n(a) Red/Green\\n(b) Purper\\n(c) Orange\\n\\n\",\n",
    "    \"what are color are banana?\\n(a) Teal\\n(b) Magenta\\n(c) Yellow\\n\\n\",\n",
    "    \"what are color are rose?\\n(a) Black\\n(b) Yellow\\n(c) Red\\n\\n\",\n",
    "    \"what are color are Watermelon?\\n(a) Green\\n(b) Purper\\n(c) Black\\n\\n\",\n",
    "    \"what are color are mango?\\n(a) Red\\n(b) Purper\\n(c) Green\\n\\n\"\n",
    "]\n",
    "\n",
    "\n",
    "questions = [\n",
    "    Question(question_prompts[0], \"a\"),\n",
    "    Question(question_prompts[1], \"c\"),\n",
    "    Question(question_prompts[2], \"c\"),\n",
    "    Question(question_prompts[3], \"a\"),\n",
    "    Question(question_prompts[4], \"c\"),\n",
    "]\n",
    "\n",
    "def run_test(questions):\n",
    "    score = 0\n",
    "    for question in questions:\n",
    "        answer = input(question.prompt)\n",
    "        if answer == question.answer:\n",
    "            score += 1 \n",
    "    print(\"You Got  \" + str(score) + \"/\" + str(len(questions)) + \"  Correct\")\n",
    "\n",
    "run_test(questions)"
   ]
  },
  {
   "cell_type": "code",
   "execution_count": null,
   "metadata": {},
   "outputs": [],
   "source": [
    "\n",
    "#OBJECT FUCTION\n",
    "class candidate:\n",
    "    def __init__(self, name, major, gpa):\n",
    "        self.name = name\n",
    "        self.major = major\n",
    "        self.gpa = gpa\n",
    "    def on_honnor(self):\n",
    "        if self.gpa >= 3.5:\n",
    "            return True\n",
    "        else:\n",
    "            return False\n",
    "        "
   ]
  },
  {
   "cell_type": "code",
   "execution_count": null,
   "metadata": {},
   "outputs": [],
   "source": [
    "student1 = candidate(\"john\", \"ICT\", 3.1)\n",
    "print(student1.on_honnor())"
   ]
  },
  {
   "cell_type": "code",
   "execution_count": null,
   "metadata": {},
   "outputs": [],
   "source": [
    "student15 = candidate(\"hanna\", \"account\", 3.8)\n",
    "print(student15.on_honnor())"
   ]
  },
  {
   "cell_type": "code",
   "execution_count": null,
   "metadata": {},
   "outputs": [],
   "source": [
    "#INHARITANCE"
   ]
  },
  {
   "cell_type": "code",
   "execution_count": null,
   "metadata": {
    "scrolled": true
   },
   "outputs": [],
   "source": [
    "from random import *\n",
    "answer = randint(100,999)\n",
    "correct = False\n",
    "\n",
    "while not(correct):\n",
    "   \n",
    "        guss =int(input(\"Enter Your Guss :  \"))\n",
    "   \n",
    "   \n",
    "        if guss < answer:\n",
    "            print(\"Too low\")\n",
    "        elif guss > answer:\n",
    "            print(\"Too High\")      \n",
    "        else:\n",
    "            print(\"corret\")\n",
    "            correct = True\n",
    "        \n"
   ]
  },
  {
   "cell_type": "code",
   "execution_count": null,
   "metadata": {},
   "outputs": [],
   "source": [
    "name = eval(input(\"Enter number :  \"))\n",
    "print(name)"
   ]
  },
  {
   "cell_type": "code",
   "execution_count": null,
   "metadata": {},
   "outputs": [],
   "source": [
    "for i in range(4):\n",
    "    print('*'*6)"
   ]
  },
  {
   "cell_type": "code",
   "execution_count": null,
   "metadata": {},
   "outputs": [],
   "source": [
    "for i in range(6):\n",
    "    print('*'*(i+1))"
   ]
  },
  {
   "cell_type": "code",
   "execution_count": null,
   "metadata": {},
   "outputs": [],
   "source": [
    "\n",
    "for i in range(1,100):\n",
    "    p = 1 + i\n",
    "    i =  \"cybergates\"\n",
    "    print(i, end= ',  ')"
   ]
  },
  {
   "cell_type": "code",
   "execution_count": null,
   "metadata": {},
   "outputs": [],
   "source": [
    "type(type(2))"
   ]
  },
  {
   "cell_type": "code",
   "execution_count": null,
   "metadata": {},
   "outputs": [],
   "source": [
    "type(type(int))"
   ]
  },
  {
   "cell_type": "code",
   "execution_count": null,
   "metadata": {},
   "outputs": [],
   "source": [
    "a = -25\n",
    "print(abs(a))"
   ]
  },
  {
   "cell_type": "code",
   "execution_count": null,
   "metadata": {},
   "outputs": [],
   "source": [
    "\n",
    "a = 23\n",
    "print(abs(a))"
   ]
  },
  {
   "cell_type": "code",
   "execution_count": null,
   "metadata": {},
   "outputs": [],
   "source": [
    "print(52*5)"
   ]
  },
  {
   "cell_type": "code",
   "execution_count": null,
   "metadata": {},
   "outputs": [],
   "source": [
    "listin = [\"imane\", \"cyber\", \"tom\"]"
   ]
  },
  {
   "cell_type": "code",
   "execution_count": null,
   "metadata": {},
   "outputs": [],
   "source": [
    "for x in list:\n",
    "    print(x)"
   ]
  },
  {
   "cell_type": "code",
   "execution_count": null,
   "metadata": {},
   "outputs": [],
   "source": [
    "def fakeacccounts(norte, enwith, times):  \n",
    "    from random import randint\n",
    "\n",
    "    def makeemail(norte):\n",
    "        return norte + \"@\"+enwith+\".com\"\n",
    "\n",
    "    xi = range(1,times)\n",
    "\n",
    "\n",
    "    for x in xi:\n",
    "        core = randint(12563,7185754)\n",
    "        email = makeemail(norte + str(x))\n",
    "        password = email + str(core)\n",
    "        print(\"Email: \",email,\"    \", \"Password: \",password)\n",
    "\n",
    "\n",
    "    "
   ]
  },
  {
   "cell_type": "markdown",
   "metadata": {},
   "source": []
  },
  {
   "cell_type": "markdown",
   "metadata": {},
   "source": [
    "\n",
    "fakeacccounts(\"cyber\",\"gates\", 4)"
   ]
  },
  {
   "cell_type": "code",
   "execution_count": null,
   "metadata": {},
   "outputs": [],
   "source": [
    "print(\"Hellow\")"
   ]
  },
  {
   "cell_type": "code",
   "execution_count": null,
   "metadata": {},
   "outputs": [],
   "source": []
  },
  {
   "cell_type": "code",
   "execution_count": null,
   "metadata": {},
   "outputs": [],
   "source": [
    "print(\"main\")"
   ]
  },
  {
   "cell_type": "code",
   "execution_count": null,
   "metadata": {},
   "outputs": [],
   "source": []
  }
 ],
 "metadata": {
  "kernelspec": {
   "display_name": "Python 3 (ipykernel)",
   "language": "python",
   "name": "python3"
  },
  "language_info": {
   "codemirror_mode": {
    "name": "ipython",
    "version": 3
   },
   "file_extension": ".py",
   "mimetype": "text/x-python",
   "name": "python",
   "nbconvert_exporter": "python",
   "pygments_lexer": "ipython3",
   "version": "3.9.10"
  }
 },
 "nbformat": 4,
 "nbformat_minor": 2
}
